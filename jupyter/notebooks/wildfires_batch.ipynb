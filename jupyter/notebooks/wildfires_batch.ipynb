{
 "cells": [
  {
   "cell_type": "code",
   "execution_count": 1,
   "id": "559a37af-965b-4ad2-9f1c-f965f637881b",
   "metadata": {},
   "outputs": [],
   "source": [
    "import os\n",
    "from minio import Minio\n",
    "from dotenv import load_dotenv\n",
    "from pyspark.sql import SparkSession\n",
    "from functions import get_url_content, get_links_by_extension, unzip_upload_to_minio, update_log"
   ]
  },
  {
   "cell_type": "code",
   "execution_count": 2,
   "id": "6e267fed-b5e9-420e-871c-e6096ec5abd2",
   "metadata": {},
   "outputs": [],
   "source": [
    "load_dotenv()\n",
    "\n",
    "MINIO_ACCESS_KEY = os.getenv(\"MINIO_ACCESS_KEY\")\n",
    "MINIO_SECRET_KEY = os.getenv(\"MINIO_SECRET_KEY\")\n",
    "MINIO_ENDPOINT = os.getenv(\"MINIO_ENDPOINT\")\n",
    "URL_WILDFIRES_BATCH = os.getenv(\"URL_WILDFIRES_BATCH\")\n",
    "\n",
    "bucket_name = 'raw'\n",
    "bucket_path_batch = 'wildfires/batch'\n",
    "bucket_path_log = 'wildfires/log.json'"
   ]
  },
  {
   "cell_type": "code",
   "execution_count": 3,
   "id": "0e94cf45-b1de-4759-ae6b-3afeaa434820",
   "metadata": {
    "editable": true,
    "slideshow": {
     "slide_type": ""
    },
    "tags": []
   },
   "outputs": [],
   "source": [
    "minio_client = Minio(\n",
    "    MINIO_ENDPOINT, \n",
    "    access_key=MINIO_ACCESS_KEY,\n",
    "    secret_key=MINIO_SECRET_KEY ,\n",
    "    secure=False \n",
    ")"
   ]
  },
  {
   "cell_type": "code",
   "execution_count": 4,
   "id": "98c76a40-65e6-4723-a602-4e0c87ac0b19",
   "metadata": {},
   "outputs": [],
   "source": [
    "response_wildfires_batch = get_url_content(URL_WILDFIRES_BATCH)\n",
    "links_wildfires_batch = get_links_by_extension(URL_WILDFIRES_BATCH, response_wildfires_batch, '.zip')"
   ]
  },
  {
   "cell_type": "code",
   "execution_count": 5,
   "id": "c0d9362c-315a-4614-8869-d41b3d20494f",
   "metadata": {},
   "outputs": [],
   "source": [
    "for link in links_wildfires_batch:\n",
    "    link_content = get_url_content(link)\n",
    "    unzip_upload_to_minio(link_content, minio_client, bucket_name, bucket_path_batch)  "
   ]
  },
  {
   "cell_type": "code",
   "execution_count": 6,
   "id": "258c64b9-d34f-4b74-89ec-e1cac78a091e",
   "metadata": {},
   "outputs": [],
   "source": [
    "spark = (\n",
    "    SparkSession.builder\n",
    "        .appName(\"ReadCSVMinio\")\n",
    "        .config(\"spark.hadoop.fs.s3a.endpoint\", f\"http://{MINIO_ENDPOINT}\")\n",
    "        .config(\"spark.hadoop.fs.s3a.access.key\", MINIO_ACCESS_KEY)\n",
    "        .config(\"spark.hadoop.fs.s3a.secret.key\", MINIO_SECRET_KEY)\n",
    "        .config(\"spark.hadoop.fs.s3a.path.style.access\", \"true\")\n",
    "        .config(\"spark.hadoop.fs.s3a.impl\", \"org.apache.hadoop.fs.s3a.S3AFileSystem\")\n",
    "        .getOrCreate()\n",
    ")"
   ]
  },
  {
   "cell_type": "code",
   "execution_count": 7,
   "id": "030cf619-5f67-40e2-8427-0fb6bbfa26c3",
   "metadata": {},
   "outputs": [],
   "source": [
    "df_wildfires_batch = spark.read.csv(f\"s3a://{bucket_name}//{bucket_path_batch}/*\", header=True, inferSchema=True)"
   ]
  },
  {
   "cell_type": "code",
   "execution_count": 8,
   "id": "25f30b2b-2618-4c65-aaa5-b323eeb4074d",
   "metadata": {},
   "outputs": [],
   "source": [
    "update_log(df_wildfires_batch, 'data_pas', minio_client, bucket_name, bucket_path_log)"
   ]
  }
 ],
 "metadata": {
  "kernelspec": {
   "display_name": "Python 3 (ipykernel)",
   "language": "python",
   "name": "python3"
  },
  "language_info": {
   "codemirror_mode": {
    "name": "ipython",
    "version": 3
   },
   "file_extension": ".py",
   "mimetype": "text/x-python",
   "name": "python",
   "nbconvert_exporter": "python",
   "pygments_lexer": "ipython3",
   "version": "3.11.6"
  }
 },
 "nbformat": 4,
 "nbformat_minor": 5
}
