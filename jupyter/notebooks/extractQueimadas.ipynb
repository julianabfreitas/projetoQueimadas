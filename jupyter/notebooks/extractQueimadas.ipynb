{
 "cells": [
  {
   "cell_type": "code",
   "execution_count": 62,
   "id": "8cc5cdfe-f4ea-47fa-a4d1-35a9e7a695d4",
   "metadata": {},
   "outputs": [],
   "source": [
    "import requests\n",
    "from bs4 import BeautifulSoup\n",
    "import zipfile\n",
    "import os\n",
    "from io import BytesIO\n",
    "from minio import Minio\n",
    "from dotenv import load_dotenv"
   ]
  },
  {
   "cell_type": "code",
   "execution_count": 66,
   "id": "0e94cf45-b1de-4759-ae6b-3afeaa434820",
   "metadata": {},
   "outputs": [],
   "source": [
    "load_dotenv()\n",
    "\n",
    "url = 'https://dataserver-coids.inpe.br/queimadas/queimadas/focos/csv/anual/Brasil_sat_ref/'\n",
    "\n",
    "minio_client = Minio(\n",
    "    'minio:9000', \n",
    "    access_key=os.getenv('MINIO_KEY_LEITURA_ESCRITA'),\n",
    "    secret_key=os.getenv('MINIO_SECRET_LEITURA_ESCRITA'),\n",
    "    secure=False \n",
    ")"
   ]
  },
  {
   "cell_type": "code",
   "execution_count": 68,
   "id": "94fe11aa-7c78-4adb-b54f-f8767e8729d2",
   "metadata": {},
   "outputs": [],
   "source": [
    "try:\n",
    "    response = requests.get(url)\n",
    "    response.raise_for_status()\n",
    "except requests.exceptions.HTTPError as err:\n",
    "    print(f\"Erro HTTP: {err}\")"
   ]
  },
  {
   "cell_type": "code",
   "execution_count": 69,
   "id": "ec68165d-062b-40f6-8a37-1d63bed3fc35",
   "metadata": {},
   "outputs": [],
   "source": [
    "soup = BeautifulSoup(response.text, 'html.parser')\n",
    "zip_links = [url + a['href'] for a in soup.find_all('a', href=True) if a['href'].endswith('.zip')]"
   ]
  },
  {
   "cell_type": "code",
   "execution_count": 72,
   "id": "b0694b22-4b91-4826-bfa2-009b88128bf2",
   "metadata": {},
   "outputs": [
    {
     "name": "stdout",
     "output_type": "stream",
     "text": [
      "Enviado para Minio: focos_br_ref_2003.csv\n",
      "Enviado para Minio: focos_br_ref_2004.csv\n",
      "Enviado para Minio: focos_br_ref_2005.csv\n",
      "Enviado para Minio: focos_br_ref_2006.csv\n",
      "Enviado para Minio: focos_br_ref_2007.csv\n",
      "Enviado para Minio: focos_br_ref_2008.csv\n",
      "Enviado para Minio: focos_br_ref_2009.csv\n",
      "Enviado para Minio: focos_br_ref_2010.csv\n",
      "Enviado para Minio: focos_br_ref_2011.csv\n",
      "Enviado para Minio: focos_br_ref_2012.csv\n",
      "Enviado para Minio: focos_br_ref_2013.csv\n",
      "Enviado para Minio: focos_br_ref_2014.csv\n",
      "Enviado para Minio: focos_br_ref_2015.csv\n",
      "Enviado para Minio: focos_br_ref_2016.csv\n",
      "Enviado para Minio: focos_br_ref_2017.csv\n",
      "Enviado para Minio: focos_br_ref_2018.csv\n",
      "Enviado para Minio: focos_br_ref_2019.csv\n",
      "Enviado para Minio: focos_br_ref_2020.csv\n",
      "Enviado para Minio: focos_br_ref_2021.csv\n",
      "Enviado para Minio: focos_br_ref_2022.csv\n",
      "Enviado para Minio: focos_br_ref_2023.csv\n"
     ]
    }
   ],
   "source": [
    "for link in zip_links:\n",
    "    try:\n",
    "        zip_resp = requests.get(link)\n",
    "        zip_resp.raise_for_status()\n",
    "    except requests.exceptions.HTTPError as err:\n",
    "        print(f\"Erro HTTP {link}: {err}\")\n",
    "        \n",
    "    with zipfile.ZipFile(BytesIO(zip_resp.content)) as zfile:\n",
    "        for file_name in zfile.namelist():\n",
    "            with zfile.open(file_name) as file_data:\n",
    "                minio_client.put_object(\n",
    "                    'raw',  \n",
    "                    file_name,    \n",
    "                    file_data,   \n",
    "                    length=zfile.getinfo(file_name).file_size \n",
    "                )\n",
    "                print(f\"Enviado para Minio: {file_name}\")"
   ]
  },
  {
   "cell_type": "code",
   "execution_count": null,
   "id": "29a290ee-f4c3-4cf0-a45d-65841481e9ba",
   "metadata": {},
   "outputs": [],
   "source": []
  }
 ],
 "metadata": {
  "kernelspec": {
   "display_name": "Python 3 (ipykernel)",
   "language": "python",
   "name": "python3"
  },
  "language_info": {
   "codemirror_mode": {
    "name": "ipython",
    "version": 3
   },
   "file_extension": ".py",
   "mimetype": "text/x-python",
   "name": "python",
   "nbconvert_exporter": "python",
   "pygments_lexer": "ipython3",
   "version": "3.11.6"
  }
 },
 "nbformat": 4,
 "nbformat_minor": 5
}
