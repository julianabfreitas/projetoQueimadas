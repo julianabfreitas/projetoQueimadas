{
 "cells": [
  {
   "cell_type": "code",
   "execution_count": 1,
   "id": "afd51f30-f154-4168-8df5-de7cb0aae0c8",
   "metadata": {},
   "outputs": [],
   "source": [
    "import os\n",
    "from minio import Minio\n",
    "from dotenv import load_dotenv\n",
    "from datetime import datetime\n",
    "from io import BytesIO\n",
    "from pyspark.sql import SparkSession\n",
    "from functions import get_url_content, get_links_by_extension, upload_file_to_minio, update_log"
   ]
  },
  {
   "cell_type": "code",
   "execution_count": 2,
   "id": "cdfa50cd-78c4-4f04-bf4b-df97d82b9abe",
   "metadata": {},
   "outputs": [],
   "source": [
    "load_dotenv()\n",
    "\n",
    "MINIO_ACCESS_KEY = os.getenv(\"MINIO_ACCESS_KEY\")\n",
    "MINIO_SECRET_KEY = os.getenv(\"MINIO_SECRET_KEY\")\n",
    "MINIO_ENDPOINT = os.getenv(\"MINIO_ENDPOINT\")\n",
    "URL_WILDFIRES_DAILY = os.getenv(\"URL_WILDFIRES_DAILY\")\n",
    "\n",
    "bucket_name = 'raw'\n",
    "bucket_path_daily = 'wildfires/daily'\n",
    "bucket_path_log = 'wildfires/log.json'"
   ]
  },
  {
   "cell_type": "code",
   "execution_count": 3,
   "id": "53973ffb-2823-4f1c-bf78-9e6792095797",
   "metadata": {},
   "outputs": [],
   "source": [
    "minio_client = Minio(\n",
    "    MINIO_ENDPOINT, \n",
    "    access_key=MINIO_ACCESS_KEY,\n",
    "    secret_key=MINIO_SECRET_KEY ,\n",
    "    secure=False \n",
    ")"
   ]
  },
  {
   "cell_type": "code",
   "execution_count": 4,
   "id": "016889d5-065d-441d-aea1-e1d8cf0cb26f",
   "metadata": {},
   "outputs": [],
   "source": [
    "spark = (\n",
    "    SparkSession.builder\n",
    "        .appName(\"ReadCSVMinio\")\n",
    "        .config(\"spark.hadoop.fs.s3a.endpoint\", f\"http://{MINIO_ENDPOINT}\")\n",
    "        .config(\"spark.hadoop.fs.s3a.access.key\", MINIO_ACCESS_KEY)\n",
    "        .config(\"spark.hadoop.fs.s3a.secret.key\", MINIO_SECRET_KEY)\n",
    "        .config(\"spark.hadoop.fs.s3a.path.style.access\", \"true\")\n",
    "        .config(\"spark.hadoop.fs.s3a.impl\", \"org.apache.hadoop.fs.s3a.S3AFileSystem\")\n",
    "        .getOrCreate()\n",
    ")"
   ]
  },
  {
   "cell_type": "code",
   "execution_count": 5,
   "id": "6e0a5d51-1e13-4848-a0b3-a5b5098484ee",
   "metadata": {},
   "outputs": [],
   "source": [
    "json_log = spark.read.json(f\"s3a://{bucket_name}//{bucket_path_log}\", multiLine=True)"
   ]
  },
  {
   "cell_type": "code",
   "execution_count": 6,
   "id": "c786be47-3729-4916-bf87-b50d892719ed",
   "metadata": {},
   "outputs": [],
   "source": [
    "last_date = json_log.select('last_date').take(1)[0][0]\n",
    "last_date_formated = int(datetime.strptime(last_date, '%Y-%m-%d %H:%M:%S').strftime('%Y%m%d'))"
   ]
  },
  {
   "cell_type": "code",
   "execution_count": 7,
   "id": "61d35393-dca7-4d22-b8f5-cde6ea1b831d",
   "metadata": {},
   "outputs": [],
   "source": [
    "response_wildfires_daily = get_url_content(URL_WILDFIRES_DAILY)\n",
    "links_wildfires_daily = get_links_by_extension(URL_WILDFIRES_DAILY, response_wildfires_daily, '.csv')"
   ]
  },
  {
   "cell_type": "code",
   "execution_count": 8,
   "id": "3252504a-373f-4d55-9e17-8241e06fb34c",
   "metadata": {},
   "outputs": [],
   "source": [
    "filtered_links = [\n",
    "    link for link in links_wildfires_daily \n",
    "    if int(link.split('br_')[-1][:8]) > last_date_formated\n",
    "]"
   ]
  },
  {
   "cell_type": "code",
   "execution_count": 9,
   "id": "8d0ed4ba-1f6a-4b5c-867d-04bad006315e",
   "metadata": {},
   "outputs": [],
   "source": [
    "for link in filtered_links:\n",
    "    file_name = link.split('Brasil/')[-1]\n",
    "    link_content = get_url_content(link)\n",
    "    upload_file_to_minio(BytesIO(link_content), len(link_content), minio_client, bucket_name, f\"{bucket_path_daily}/{file_name}\")"
   ]
  },
  {
   "cell_type": "code",
   "execution_count": 10,
   "id": "83b8e5d3-2286-421d-beb5-60be72535c68",
   "metadata": {},
   "outputs": [],
   "source": [
    "df_wildfires_daily = spark.read.csv(f\"s3a://{bucket_name}//{bucket_path_daily}/*\", header=True, inferSchema=True)"
   ]
  },
  {
   "cell_type": "code",
   "execution_count": 12,
   "id": "4603a5a1-ed97-4aff-b170-b483a09b480d",
   "metadata": {},
   "outputs": [],
   "source": [
    "update_log(df_wildfires_daily, 'data_hora_gmt', minio_client, bucket_name, bucket_path_log)"
   ]
  }
 ],
 "metadata": {
  "kernelspec": {
   "display_name": "Python 3 (ipykernel)",
   "language": "python",
   "name": "python3"
  },
  "language_info": {
   "codemirror_mode": {
    "name": "ipython",
    "version": 3
   },
   "file_extension": ".py",
   "mimetype": "text/x-python",
   "name": "python",
   "nbconvert_exporter": "python",
   "pygments_lexer": "ipython3",
   "version": "3.11.6"
  }
 },
 "nbformat": 4,
 "nbformat_minor": 5
}
